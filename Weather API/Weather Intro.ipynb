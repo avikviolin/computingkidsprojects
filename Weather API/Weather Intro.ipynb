{
 "cells": [
  {
   "cell_type": "code",
   "execution_count": 75,
   "metadata": {},
   "outputs": [],
   "source": [
    "import requests\n",
    "import pprint"
   ]
  },
  {
   "cell_type": "code",
   "execution_count": 76,
   "metadata": {},
   "outputs": [
    {
     "data": {
      "text/plain": [
       "200"
      ]
     },
     "execution_count": 76,
     "metadata": {},
     "output_type": "execute_result"
    }
   ],
   "source": [
    "resp = requests.get(\"http://api.openweathermap.org/data/2.5/weather?q=London&appid=4c1dc227fbba18ad7270a10812641fd6\")\n",
    "resp.status_code"
   ]
  },
  {
   "cell_type": "code",
   "execution_count": 77,
   "metadata": {},
   "outputs": [
    {
     "name": "stdout",
     "output_type": "stream",
     "text": [
      "Enter a cityNew York\n",
      "New%20York\n"
     ]
    }
   ],
   "source": [
    "# print(\"Hello! Welcome to my weather app!\")\n",
    "city = input(\"Enter a city\")\n",
    "\n",
    "string = list(city)\n",
    "if \" \" in city:\n",
    "    for n, i in enumerate(string):\n",
    "        if i == \" \":\n",
    "            string[n] = \"%20\"\n",
    "    result= ''\n",
    "    for element in string:\n",
    "        result += str(element)\n",
    "else:\n",
    "    result = city\n",
    "\n",
    "print(result)"
   ]
  },
  {
   "cell_type": "code",
   "execution_count": 78,
   "metadata": {},
   "outputs": [
    {
     "data": {
      "text/plain": [
       "286.15"
      ]
     },
     "execution_count": 78,
     "metadata": {},
     "output_type": "execute_result"
    }
   ],
   "source": [
    "cityjson = requests.get(\"http://api.openweathermap.org/data/2.5/weather?q=\"+result+\"&appid=4c1dc227fbba18ad7270a10812641fd6\")\n",
    "x = resp.json()['main']['temp_max']\n",
    "x"
   ]
  },
  {
   "cell_type": "code",
   "execution_count": 79,
   "metadata": {},
   "outputs": [
    {
     "name": "stdout",
     "output_type": "stream",
     "text": [
      "The temperature in New York is 55 degrees\n"
     ]
    }
   ],
   "source": [
    "# (0K − 273.15) × 9/5 + 32 = -459.7°F\n",
    "x = (x-273.15)*(9/5)+32\n",
    "x = round(x)\n",
    "print(\"The temperature in \"+str(city)+\" is \"+str(x)+\" degrees\")"
   ]
  },
  {
   "cell_type": "code",
   "execution_count": null,
   "metadata": {},
   "outputs": [],
   "source": []
  }
 ],
 "metadata": {
  "kernelspec": {
   "display_name": "Python 3",
   "language": "python",
   "name": "python3"
  },
  "language_info": {
   "codemirror_mode": {
    "name": "ipython",
    "version": 3
   },
   "file_extension": ".py",
   "mimetype": "text/x-python",
   "name": "python",
   "nbconvert_exporter": "python",
   "pygments_lexer": "ipython3",
   "version": "3.7.4"
  }
 },
 "nbformat": 4,
 "nbformat_minor": 2
}
