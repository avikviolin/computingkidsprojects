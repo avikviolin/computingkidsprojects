{
 "cells": [
  {
   "cell_type": "code",
   "execution_count": 26,
   "metadata": {},
   "outputs": [],
   "source": [
    "import requests\n",
    "import json\n",
    "import pprint\n",
    "\n",
    "# This is a very simple intro to requesting APIs"
   ]
  },
  {
   "cell_type": "code",
   "execution_count": 27,
   "metadata": {},
   "outputs": [
    {
     "name": "stdout",
     "output_type": "stream",
     "text": [
      "Hello, Yoda I am. I speak funny people say. A sentence you will tell me, and translate it I will\n",
      "\n",
      "[]\n",
      "[]\n"
     ]
    }
   ],
   "source": [
    "print(\"Hello, Yoda I am. I speak funny people say. A sentence you will tell me, and translate it I will\")\n",
    "input1 = input()\n",
    "string = list(input1)\n",
    "print(string)\n",
    "# string = list(filter((\" \").__ne__, string))\n",
    "\n",
    "for n, i in enumerate(string):\n",
    "    if i == \" \":\n",
    "        string[n] = \"%20\"\n",
    "result= ''\n",
    "for element in string:\n",
    "    result += str(element)\n",
    "print(result)\n",
    "\n",
    "print(string)\n"
   ]
  },
  {
   "cell_type": "code",
   "execution_count": 28,
   "metadata": {},
   "outputs": [],
   "source": [
    "def concatenate_list_data(list):\n",
    "    result= ''\n",
    "    for element in list:\n",
    "        result += str(element)\n",
    "    return result\n",
    "\n",
    "final = concatenate_list_data(string)"
   ]
  },
  {
   "cell_type": "code",
   "execution_count": 29,
   "metadata": {},
   "outputs": [
    {
     "data": {
      "text/plain": [
       "{'error': {'code': 429,\n",
       "  'message': 'Too Many Requests: Rate limit of 5 requests per hour exceeded. Please wait for 55 minutes and 20 seconds.'}}"
      ]
     },
     "execution_count": 29,
     "metadata": {},
     "output_type": "execute_result"
    }
   ],
   "source": [
    "resp = requests.get(\"https://api.funtranslations.com/translate/yoda.json?text=\"+ final)\n",
    "final = resp.json()\n",
    "final"
   ]
  },
  {
   "cell_type": "code",
   "execution_count": null,
   "metadata": {},
   "outputs": [],
   "source": []
  }
 ],
 "metadata": {
  "kernelspec": {
   "display_name": "Python 3",
   "language": "python",
   "name": "python3"
  },
  "language_info": {
   "codemirror_mode": {
    "name": "ipython",
    "version": 3
   },
   "file_extension": ".py",
   "mimetype": "text/x-python",
   "name": "python",
   "nbconvert_exporter": "python",
   "pygments_lexer": "ipython3",
   "version": "3.7.4"
  }
 },
 "nbformat": 4,
 "nbformat_minor": 2
}
